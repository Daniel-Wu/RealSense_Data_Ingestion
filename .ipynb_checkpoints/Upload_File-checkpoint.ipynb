{
 "cells": [
  {
   "cell_type": "markdown",
   "metadata": {},
   "source": [
    "# Uploads file to remote server"
   ]
  },
  {
   "cell_type": "code",
   "execution_count": 18,
   "metadata": {},
   "outputs": [],
   "source": [
    "import os\n",
    "import pysftp as sftp\n",
    "import threading\n",
    "import time"
   ]
  },
  {
   "cell_type": "code",
   "execution_count": 8,
   "metadata": {},
   "outputs": [],
   "source": [
    "\n",
    "def sftpPut():\n",
    "    with sftp.Connection(host='aicare.stanford.edu', username ='danjwu', private_key='/home/svl/.ssh/id_rsa') as s:\n",
    "        remotepath = '/home/danjwu/data/text1.txt'\n",
    "        localpath = '/home/svl/Desktop/RealSense_Data_Ingestion/test.txt'\n",
    "        s.put(localpath, remotepath)\n",
    "\n",
    "sftpPut();"
   ]
  },
  {
   "cell_type": "code",
   "execution_count": 10,
   "metadata": {},
   "outputs": [],
   "source": [
    "# Build some robust functions"
   ]
  },
  {
   "cell_type": "code",
   "execution_count": 22,
   "metadata": {},
   "outputs": [
    {
     "name": "stdout",
     "output_type": "stream",
     "text": [
      "Uploaded test.txt\n"
     ]
    }
   ],
   "source": [
    "def sftpPut(filename, host = 'aicare.stanford.edu'):\n",
    "    while True:\n",
    "        try:\n",
    "            with sftp.Connection(host= host, username ='danjwu', private_key='/home/svl/.ssh/id_rsa') as s:\n",
    "                remotepath = os.path.join('/home/danjwu/data/', filename)\n",
    "                localpath = os.path.join('/home/svl/Desktop/RealSense_Data_Ingestion/', filename)\n",
    "                s.put(localpath, remotepath)\n",
    "                print('Uploaded', filename)\n",
    "                return\n",
    "        except:\n",
    "            #Try every 5 secs till it works\n",
    "            time.sleep(5)\n",
    "        \n",
    "        \n",
    "sftpPut('test.txt')"
   ]
  },
  {
   "cell_type": "code",
   "execution_count": 15,
   "metadata": {},
   "outputs": [],
   "source": [
    "def dispatchPut(filename):\n",
    "\n",
    "    x = threading.Thread(target=sftpPut, args=(filename,))\n",
    "    x.start()\n"
   ]
  },
  {
   "cell_type": "code",
   "execution_count": 19,
   "metadata": {},
   "outputs": [],
   "source": [
    "def test_dispatch(n=50):\n",
    "    for i in range(n):\n",
    "        with open(str(i) + '.txt', 'w') as outfile:\n",
    "            outfile.write(str(i))\n",
    "        print('Wrote', i)\n",
    "        dispatchPut(str(i) + '.txt')\n",
    "        if i%3 == 0:\n",
    "            time.sleep(1)"
   ]
  },
  {
   "cell_type": "code",
   "execution_count": 23,
   "metadata": {},
   "outputs": [
    {
     "name": "stdout",
     "output_type": "stream",
     "text": [
      "Wrote 0\n",
      "Wrote 1\n",
      "Wrote 2\n",
      "Wrote 3\n",
      "Uploaded 0.txt\n",
      "Wrote 4\n",
      "Wrote 5\n",
      "Wrote 6\n",
      "Wrote 7\n",
      "Wrote 8\n",
      "Wrote 9\n",
      "Uploaded 2.txt\n",
      "Uploaded 3.txt\n",
      "Wrote 10\n",
      "Wrote 11\n",
      "Wrote 12\n",
      "Uploaded 4.txt\n",
      "Wrote 13\n",
      "Wrote 14\n",
      "Wrote 15\n",
      "Uploaded 5.txt\n",
      "Uploaded 10.txt\n",
      "Uploaded 8.txt\n",
      "Wrote 16\n",
      "Uploaded 9.txt\n",
      "Wrote 17\n",
      "Wrote 18\n",
      "Wrote 19\n",
      "UploadedWrote 20\n",
      " 6.txt\n",
      "Wrote 21\n",
      "Uploaded 11.txt\n",
      "Uploaded 15.txt\n",
      "Uploaded 1.txt\n",
      "Wrote 22\n",
      "Wrote 23\n",
      "Wrote 24\n",
      "Wrote 25\n",
      "Wrote 26\n",
      "Wrote 27\n",
      "Wrote 28\n",
      "Wrote 29\n",
      "Wrote 30\n",
      "Uploaded 19.txt\n",
      "Uploaded 13.txt\n",
      "Uploaded 24.txt\n",
      "Uploaded 20.txt\n",
      "Wrote 31\n",
      "Wrote 32\n",
      "Wrote 33\n",
      "Uploaded 17.txt\n",
      "Uploaded 25.txt\n",
      "Uploaded 22.txt\n",
      "Uploaded 18.txt\n",
      "Uploaded 26.txt\n",
      "Wrote 34\n",
      "Wrote 35\n",
      "Wrote 36\n",
      "Uploaded 14.txt\n",
      "Uploaded 28.txt\n",
      "Uploaded 30.txt\n",
      "Wrote 37\n",
      "Wrote 38\n",
      "Wrote 39\n",
      "Uploaded 23.txt\n",
      "Uploaded 31.txt\n",
      "Uploaded 12.txt\n",
      "Uploaded 32.txt\n",
      "Wrote 40\n",
      "Wrote 41\n",
      "Wrote 42\n",
      "Uploaded 35.txt\n",
      "Wrote 43\n",
      "Wrote 44\n",
      "Wrote 45\n",
      "Uploaded 34.txt\n",
      "Uploaded 29.txt\n",
      "Uploaded 36.txt\n"
     ]
    },
    {
     "ename": "KeyboardInterrupt",
     "evalue": "",
     "output_type": "error",
     "traceback": [
      "\u001b[0;31m---------------------------------------------------------------------------\u001b[0m",
      "\u001b[0;31mKeyboardInterrupt\u001b[0m                         Traceback (most recent call last)",
      "\u001b[0;32m<ipython-input-23-5d0566fe32f7>\u001b[0m in \u001b[0;36m<module>\u001b[0;34m\u001b[0m\n\u001b[0;32m----> 1\u001b[0;31m \u001b[0mtest_dispatch\u001b[0m\u001b[0;34m(\u001b[0m\u001b[0;34m)\u001b[0m\u001b[0;34m\u001b[0m\u001b[0m\n\u001b[0m",
      "\u001b[0;32m<ipython-input-19-8e817e39bc95>\u001b[0m in \u001b[0;36mtest_dispatch\u001b[0;34m(n)\u001b[0m\n\u001b[1;32m      6\u001b[0m         \u001b[0mdispatchPut\u001b[0m\u001b[0;34m(\u001b[0m\u001b[0mstr\u001b[0m\u001b[0;34m(\u001b[0m\u001b[0mi\u001b[0m\u001b[0;34m)\u001b[0m \u001b[0;34m+\u001b[0m \u001b[0;34m'.txt'\u001b[0m\u001b[0;34m)\u001b[0m\u001b[0;34m\u001b[0m\u001b[0m\n\u001b[1;32m      7\u001b[0m         \u001b[0;32mif\u001b[0m \u001b[0mi\u001b[0m\u001b[0;34m%\u001b[0m\u001b[0;36m3\u001b[0m \u001b[0;34m==\u001b[0m \u001b[0;36m0\u001b[0m\u001b[0;34m:\u001b[0m\u001b[0;34m\u001b[0m\u001b[0m\n\u001b[0;32m----> 8\u001b[0;31m             \u001b[0mtime\u001b[0m\u001b[0;34m.\u001b[0m\u001b[0msleep\u001b[0m\u001b[0;34m(\u001b[0m\u001b[0;36m1\u001b[0m\u001b[0;34m)\u001b[0m\u001b[0;34m\u001b[0m\u001b[0m\n\u001b[0m",
      "\u001b[0;31mKeyboardInterrupt\u001b[0m: "
     ]
    },
    {
     "name": "stdout",
     "output_type": "stream",
     "text": [
      "Uploaded 40.txt\n",
      "Uploaded 33.txt\n",
      "Uploaded 44.txt\n",
      "UploadedUploaded 37.txt\n",
      " 43.txt\n",
      "Uploaded 38.txt\n",
      "Uploaded 7.txt\n",
      "Uploaded 45.txt\n",
      "Uploaded 39.txt\n",
      "Uploaded 21.txt\n",
      "Uploaded 27.txt\n",
      "Uploaded 41.txt\n"
     ]
    }
   ],
   "source": [
    "test_dispatch()"
   ]
  },
  {
   "cell_type": "code",
   "execution_count": null,
   "metadata": {},
   "outputs": [],
   "source": []
  }
 ],
 "metadata": {
  "kernelspec": {
   "display_name": "Python 3",
   "language": "python",
   "name": "python3"
  },
  "language_info": {
   "codemirror_mode": {
    "name": "ipython",
    "version": 3
   },
   "file_extension": ".py",
   "mimetype": "text/x-python",
   "name": "python",
   "nbconvert_exporter": "python",
   "pygments_lexer": "ipython3",
   "version": "3.5.2"
  }
 },
 "nbformat": 4,
 "nbformat_minor": 4
}
