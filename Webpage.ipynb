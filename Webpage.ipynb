{
 "cells": [
  {
   "cell_type": "markdown",
   "metadata": {},
   "source": [
    "# Make a simple Flask site that streams video from the camera"
   ]
  },
  {
   "cell_type": "code",
   "execution_count": 15,
   "metadata": {},
   "outputs": [
    {
     "name": "stdout",
     "output_type": "stream",
     "text": [
      " * Serving Flask app \"__main__\" (lazy loading)\n",
      " * Environment: production\n",
      "   WARNING: This is a development server. Do not use it in a production deployment.\n",
      "   Use a production WSGI server instead.\n",
      " * Debug mode: off\n"
     ]
    },
    {
     "name": "stderr",
     "output_type": "stream",
     "text": [
      " * Running on http://0.0.0.0:5000/ (Press CTRL+C to quit)\n",
      "127.0.0.1 - - [10/Jan/2020 17:21:17] \"GET / HTTP/1.1\" 200 -\n",
      "127.0.0.1 - - [10/Jan/2020 17:22:27] \"GET / HTTP/1.1\" 500 -\n",
      "Error on request:\n",
      "Traceback (most recent call last):\n",
      "  File \"/usr/local/lib/python3.5/dist-packages/werkzeug/serving.py\", line 304, in run_wsgi\n",
      "    execute(self.server.app)\n",
      "  File \"/usr/local/lib/python3.5/dist-packages/werkzeug/serving.py\", line 294, in execute\n",
      "    for data in application_iter:\n",
      "  File \"/usr/local/lib/python3.5/dist-packages/werkzeug/wsgi.py\", line 506, in __next__\n",
      "    return self._next()\n",
      "  File \"/usr/local/lib/python3.5/dist-packages/werkzeug/wrappers/base_response.py\", line 45, in _iter_encoded\n",
      "    for item in iterable:\n",
      "  File \"<ipython-input-15-5bc5ebad9ee8>\", line 23, in gen\n",
      "    \n",
      "RuntimeError: xioctl(VIDIOC_S_FMT) failed Last Error: Device or resource busy\n",
      "127.0.0.1 - - [10/Jan/2020 17:22:27] \"GET /favicon.ico HTTP/1.1\" 404 -\n",
      "192.168.1.235 - - [10/Jan/2020 17:29:53] \"GET / HTTP/1.1\" 500 -\n",
      "Error on request:\n",
      "Traceback (most recent call last):\n",
      "  File \"/usr/local/lib/python3.5/dist-packages/werkzeug/serving.py\", line 304, in run_wsgi\n",
      "    execute(self.server.app)\n",
      "  File \"/usr/local/lib/python3.5/dist-packages/werkzeug/serving.py\", line 294, in execute\n",
      "    for data in application_iter:\n",
      "  File \"/usr/local/lib/python3.5/dist-packages/werkzeug/wsgi.py\", line 506, in __next__\n",
      "    return self._next()\n",
      "  File \"/usr/local/lib/python3.5/dist-packages/werkzeug/wrappers/base_response.py\", line 45, in _iter_encoded\n",
      "    for item in iterable:\n",
      "  File \"<ipython-input-15-5bc5ebad9ee8>\", line 23, in gen\n",
      "    \n",
      "RuntimeError: xioctl(VIDIOC_S_FMT) failed Last Error: Device or resource busy\n",
      "192.168.1.235 - - [10/Jan/2020 17:29:53] \"GET /favicon.ico HTTP/1.1\" 404 -\n"
     ]
    }
   ],
   "source": [
    "from flask import Flask, render_template, Response\n",
    "\n",
    "app = Flask(__name__)\n",
    "\n",
    "import cv2\n",
    "import numpy as np\n",
    "import pyrealsense2 as rs\n",
    "\n",
    "def gen():\n",
    "    frame_width = 640\n",
    "    frame_height = 480\n",
    "\n",
    "    pipeline = rs.pipeline()\n",
    "    config = rs.config()\n",
    "    config.enable_stream(rs.stream.color, frame_width, frame_height, rs.format.bgr8, 30)\n",
    "    config.enable_stream(rs.stream.depth, frame_width, frame_height, rs.format.z16, 30)\n",
    "\n",
    "    \n",
    "    # Create an align object\n",
    "    align_to = rs.stream.color\n",
    "    align = rs.align(align_to)\n",
    "\n",
    "    pipeline.start(config)\n",
    "    try:\n",
    "        while True:\n",
    "            frames = pipeline.wait_for_frames()\n",
    "            # Align the depth frame to color frame\n",
    "            aligned_frames = align.process(frames)\n",
    "\n",
    "            # Get aligned frames\n",
    "            depth_frame = aligned_frames.get_depth_frame() # aligned_depth_frame is a 640x480 depth image\n",
    "            color_frame = aligned_frames.get_color_frame()\n",
    "            if not depth_frame or not color_frame:\n",
    "                continue\n",
    "                \n",
    "            # Convert images to numpy arrays\n",
    "            depth_image = np.asanyarray(depth_frame.get_data())\n",
    "            color_image = np.asanyarray(color_frame.get_data())\n",
    "            \n",
    "            # Apply colormap on depth image (image must be converted to 8-bit per pixel first)\n",
    "            depth_colormap = cv2.applyColorMap(cv2.convertScaleAbs(depth_image, alpha=0.03), cv2.COLORMAP_JET)\n",
    "\n",
    "            # Stack both images horizontally\n",
    "            images = np.hstack((color_image, depth_colormap))\n",
    "            \n",
    "            #Encode and deploy\n",
    "            ret, jpeg = cv2.imencode('.jpg', images)\n",
    "            frame = jpeg.tobytes()\n",
    "            yield (b'--frame\\r\\n'\n",
    "                   b'Content-Type: image/jpeg\\r\\n\\r\\n' + frame + b'\\r\\n\\r\\n')\n",
    "            \n",
    "    finally:\n",
    "\n",
    "        # Stop streaming\n",
    "        pipeline.stop()\n",
    "\n",
    "@app.route('/')\n",
    "def video_feed():\n",
    "    return Response(gen(),\n",
    "                    mimetype='multipart/x-mixed-replace; boundary=frame')\n",
    "\n",
    "if __name__ == '__main__':\n",
    "    app.run(host='0.0.0.0', debug=False)"
   ]
  },
  {
   "cell_type": "code",
   "execution_count": null,
   "metadata": {},
   "outputs": [],
   "source": []
  }
 ],
 "metadata": {
  "kernelspec": {
   "display_name": "Python 3",
   "language": "python",
   "name": "python3"
  },
  "language_info": {
   "codemirror_mode": {
    "name": "ipython",
    "version": 3
   },
   "file_extension": ".py",
   "mimetype": "text/x-python",
   "name": "python",
   "nbconvert_exporter": "python",
   "pygments_lexer": "ipython3",
   "version": "3.5.2"
  }
 },
 "nbformat": 4,
 "nbformat_minor": 4
}
