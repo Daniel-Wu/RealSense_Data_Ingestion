{
 "cells": [
  {
   "cell_type": "markdown",
   "metadata": {},
   "source": [
    "# Make a simple Flask site that streams video from the camera"
   ]
  },
  {
   "cell_type": "code",
   "execution_count": null,
   "metadata": {},
   "outputs": [
    {
     "name": "stdout",
     "output_type": "stream",
     "text": [
      " * Serving Flask app \"__main__\" (lazy loading)\n",
      " * Environment: production\n",
      "   WARNING: This is a development server. Do not use it in a production deployment.\n",
      "   Use a production WSGI server instead.\n",
      " * Debug mode: off\n"
     ]
    },
    {
     "name": "stderr",
     "output_type": "stream",
     "text": [
      " * Running on http://0.0.0.0:5000/ (Press CTRL+C to quit)\n",
      "127.0.0.1 - - [23/Jan/2020 19:05:13] \"GET / HTTP/1.1\" 200 -\n"
     ]
    }
   ],
   "source": [
    "from flask import Flask, render_template, Response\n",
    "\n",
    "app = Flask(__name__)\n",
    "\n",
    "import cv2\n",
    "import numpy as np\n",
    "import pyrealsense2 as rs\n",
    "\n",
    "def gen():\n",
    "    frame_width = 640\n",
    "    frame_height = 480\n",
    "    face_cascade = cv2.CascadeClassifier('haarcascade_frontalface_default.xml')\n",
    "    pipeline = rs.pipeline()\n",
    "    config = rs.config()\n",
    "    config.enable_stream(rs.stream.color, frame_width, frame_height, rs.format.bgr8, 30)\n",
    "    config.enable_stream(rs.stream.depth, frame_width, frame_height, rs.format.z16, 30)\n",
    "\n",
    "    \n",
    "    # Create an align object\n",
    "    align_to = rs.stream.color\n",
    "    align = rs.align(align_to)\n",
    "\n",
    "    pipeline.start(config)\n",
    "    try:\n",
    "        while True:\n",
    "            frames = pipeline.wait_for_frames()\n",
    "            # Align the depth frame to color frame\n",
    "            aligned_frames = align.process(frames)\n",
    "\n",
    "            # Get aligned frames\n",
    "            depth_frame = aligned_frames.get_depth_frame() # aligned_depth_frame is a 640x480 depth image\n",
    "            color_frame = aligned_frames.get_color_frame()\n",
    "            if not depth_frame or not color_frame:\n",
    "                continue\n",
    "                \n",
    "            # Convert images to numpy arrays\n",
    "            depth_image = np.asanyarray(depth_frame.get_data())\n",
    "            color_image = np.asanyarray(color_frame.get_data())\n",
    "            \n",
    "            # Apply colormap on depth image (image must be converted to 8-bit per pixel first)\n",
    "            depth_colormap = cv2.applyColorMap(cv2.convertScaleAbs(depth_image, alpha=0.03), cv2.COLORMAP_JET)\n",
    "\n",
    "            \n",
    "            #Do face detection on RGB\n",
    "            gray = cv2.cvtColor(color_image, cv2.COLOR_BGR2GRAY)\n",
    "            faces = face_cascade.detectMultiScale(gray, 1.3, 5)\n",
    "            for (x,y,w,h) in faces:\n",
    "                color_image = cv2.rectangle(color_image,(x,y),(x+w,y+h),(255,0,0),2)\n",
    "                # get the rectangle img around all the faces\n",
    "                sub_face = color_image[y:y+h, x:x+w]\n",
    "                # apply a gaussian blur on this new recangle image\n",
    "                sub_face = cv2.GaussianBlur(sub_face,(23, 23), 30)\n",
    "                # merge this blurry rectangle to our final image\n",
    "                color_image[y:y+sub_face.shape[0], x:x+sub_face.shape[1]] = sub_face\n",
    "            \n",
    "            # Stack both images horizontally\n",
    "            images = np.hstack((color_image, depth_colormap))\n",
    "            \n",
    "            #Downsample\n",
    "            #images = images[::5,::5]\n",
    "            \n",
    "            #Encode and deploy\n",
    "            ret, jpeg = cv2.imencode('.jpg', images)\n",
    "            frame = jpeg.tobytes()\n",
    "            #yield frame\n",
    "            yield (b'--frame\\r\\n'\n",
    "                   b'Content-Type: image/jpeg\\r\\n\\r\\n' + frame + b'\\r\\n\\r\\n')\n",
    "            \n",
    "    finally:\n",
    "\n",
    "        # Stop streaming\n",
    "        pipeline.stop()\n",
    "\n",
    "@app.route('/')\n",
    "def video_feed():\n",
    "    return Response(gen(),\n",
    "                    #mimetype='image/jpeg')#\n",
    "                    mimetype='multipart/x-mixed-replace; boundary=frame')\n",
    "\n",
    "if __name__ == '__main__':\n",
    "    app.run(host='0.0.0.0', debug=False)"
   ]
  },
  {
   "cell_type": "markdown",
   "metadata": {},
   "source": [
    "# To get this flask server streaming:\n",
    "Reverse port forward to the aicare server\n",
    "`ssh -v -R 50051:localhost:5000 danjwu@aicare.stanford.edu`\n",
    "\n",
    "Port forward from client to aicare server\n",
    "`ssh -L 50051:localhost:50051 danjwu@aicare.stanford.edu`\n",
    "        \n",
    "Visit localhost:50051 on client"
   ]
  },
  {
   "cell_type": "code",
   "execution_count": null,
   "metadata": {},
   "outputs": [],
   "source": []
  },
  {
   "cell_type": "code",
   "execution_count": null,
   "metadata": {},
   "outputs": [],
   "source": []
  }
 ],
 "metadata": {
  "kernelspec": {
   "display_name": "Python 3",
   "language": "python",
   "name": "python3"
  },
  "language_info": {
   "codemirror_mode": {
    "name": "ipython",
    "version": 3
   },
   "file_extension": ".py",
   "mimetype": "text/x-python",
   "name": "python",
   "nbconvert_exporter": "python",
   "pygments_lexer": "ipython3",
   "version": "3.7.6"
  }
 },
 "nbformat": 4,
 "nbformat_minor": 4
}
